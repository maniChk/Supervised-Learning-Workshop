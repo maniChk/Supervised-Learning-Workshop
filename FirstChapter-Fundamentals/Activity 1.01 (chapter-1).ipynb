{
 "cells": [
  {
   "cell_type": "code",
   "execution_count": 1,
   "metadata": {},
   "outputs": [
    {
     "name": "stdout",
     "output_type": "stream",
     "text": [
      "Activity 1.01.ipynb           titanic-Copy1.csv\r\n",
      "Exercises -1.01 to 1.05.ipynb\r\n"
     ]
    }
   ],
   "source": [
    "!ls"
   ]
  },
  {
   "cell_type": "markdown",
   "metadata": {},
   "source": [
    "Use pandas to load the Titanic dataset and use the head function on the dataset to display the top rows of the dataset. Describe the summary data for all columns.\n"
   ]
  },
  {
   "cell_type": "code",
   "execution_count": 2,
   "metadata": {},
   "outputs": [],
   "source": [
    "import pandas as pd\n",
    "import numpy as np"
   ]
  },
  {
   "cell_type": "code",
   "execution_count": 17,
   "metadata": {},
   "outputs": [],
   "source": [
    "data = pd.read_csv('titanic-Copy1.csv')"
   ]
  },
  {
   "cell_type": "code",
   "execution_count": 4,
   "metadata": {},
   "outputs": [
    {
     "data": {
      "text/html": [
       "<div>\n",
       "<style scoped>\n",
       "    .dataframe tbody tr th:only-of-type {\n",
       "        vertical-align: middle;\n",
       "    }\n",
       "\n",
       "    .dataframe tbody tr th {\n",
       "        vertical-align: top;\n",
       "    }\n",
       "\n",
       "    .dataframe thead th {\n",
       "        text-align: right;\n",
       "    }\n",
       "</style>\n",
       "<table border=\"1\" class=\"dataframe\">\n",
       "  <thead>\n",
       "    <tr style=\"text-align: right;\">\n",
       "      <th></th>\n",
       "      <th>Unnamed: 0</th>\n",
       "      <th>Cabin</th>\n",
       "      <th>Embarked</th>\n",
       "      <th>Fare</th>\n",
       "      <th>Pclass</th>\n",
       "      <th>Ticket</th>\n",
       "      <th>Age</th>\n",
       "      <th>Name</th>\n",
       "      <th>Parch</th>\n",
       "      <th>Sex</th>\n",
       "      <th>SibSp</th>\n",
       "      <th>Survived</th>\n",
       "    </tr>\n",
       "  </thead>\n",
       "  <tbody>\n",
       "    <tr>\n",
       "      <th>0</th>\n",
       "      <td>0</td>\n",
       "      <td>NaN</td>\n",
       "      <td>S</td>\n",
       "      <td>7.2500</td>\n",
       "      <td>3</td>\n",
       "      <td>A/5 21171</td>\n",
       "      <td>22.0</td>\n",
       "      <td>Braund, Mr. Owen Harris</td>\n",
       "      <td>0</td>\n",
       "      <td>male</td>\n",
       "      <td>1</td>\n",
       "      <td>0.0</td>\n",
       "    </tr>\n",
       "    <tr>\n",
       "      <th>1</th>\n",
       "      <td>1</td>\n",
       "      <td>C85</td>\n",
       "      <td>C</td>\n",
       "      <td>71.2833</td>\n",
       "      <td>1</td>\n",
       "      <td>PC 17599</td>\n",
       "      <td>38.0</td>\n",
       "      <td>Cumings, Mrs. John Bradley (Florence Briggs Th...</td>\n",
       "      <td>0</td>\n",
       "      <td>female</td>\n",
       "      <td>1</td>\n",
       "      <td>1.0</td>\n",
       "    </tr>\n",
       "    <tr>\n",
       "      <th>2</th>\n",
       "      <td>2</td>\n",
       "      <td>NaN</td>\n",
       "      <td>S</td>\n",
       "      <td>7.9250</td>\n",
       "      <td>3</td>\n",
       "      <td>STON/O2. 3101282</td>\n",
       "      <td>26.0</td>\n",
       "      <td>Heikkinen, Miss. Laina</td>\n",
       "      <td>0</td>\n",
       "      <td>female</td>\n",
       "      <td>0</td>\n",
       "      <td>1.0</td>\n",
       "    </tr>\n",
       "    <tr>\n",
       "      <th>3</th>\n",
       "      <td>3</td>\n",
       "      <td>C123</td>\n",
       "      <td>S</td>\n",
       "      <td>53.1000</td>\n",
       "      <td>1</td>\n",
       "      <td>113803</td>\n",
       "      <td>35.0</td>\n",
       "      <td>Futrelle, Mrs. Jacques Heath (Lily May Peel)</td>\n",
       "      <td>0</td>\n",
       "      <td>female</td>\n",
       "      <td>1</td>\n",
       "      <td>1.0</td>\n",
       "    </tr>\n",
       "    <tr>\n",
       "      <th>4</th>\n",
       "      <td>4</td>\n",
       "      <td>NaN</td>\n",
       "      <td>S</td>\n",
       "      <td>8.0500</td>\n",
       "      <td>3</td>\n",
       "      <td>373450</td>\n",
       "      <td>35.0</td>\n",
       "      <td>Allen, Mr. William Henry</td>\n",
       "      <td>0</td>\n",
       "      <td>male</td>\n",
       "      <td>0</td>\n",
       "      <td>0.0</td>\n",
       "    </tr>\n",
       "  </tbody>\n",
       "</table>\n",
       "</div>"
      ],
      "text/plain": [
       "   Unnamed: 0 Cabin Embarked     Fare  Pclass            Ticket   Age  \\\n",
       "0           0   NaN        S   7.2500       3         A/5 21171  22.0   \n",
       "1           1   C85        C  71.2833       1          PC 17599  38.0   \n",
       "2           2   NaN        S   7.9250       3  STON/O2. 3101282  26.0   \n",
       "3           3  C123        S  53.1000       1            113803  35.0   \n",
       "4           4   NaN        S   8.0500       3            373450  35.0   \n",
       "\n",
       "                                                Name  Parch     Sex  SibSp  \\\n",
       "0                            Braund, Mr. Owen Harris      0    male      1   \n",
       "1  Cumings, Mrs. John Bradley (Florence Briggs Th...      0  female      1   \n",
       "2                             Heikkinen, Miss. Laina      0  female      0   \n",
       "3       Futrelle, Mrs. Jacques Heath (Lily May Peel)      0  female      1   \n",
       "4                           Allen, Mr. William Henry      0    male      0   \n",
       "\n",
       "   Survived  \n",
       "0       0.0  \n",
       "1       1.0  \n",
       "2       1.0  \n",
       "3       1.0  \n",
       "4       0.0  "
      ]
     },
     "execution_count": 4,
     "metadata": {},
     "output_type": "execute_result"
    }
   ],
   "source": [
    "data.head(5)"
   ]
  },
  {
   "cell_type": "code",
   "execution_count": 11,
   "metadata": {},
   "outputs": [
    {
     "name": "stdout",
     "output_type": "stream",
     "text": [
      "<class 'pandas.core.frame.DataFrame'>\n",
      "RangeIndex: 1309 entries, 0 to 1308\n",
      "Data columns (total 12 columns):\n",
      " #   Column      Non-Null Count  Dtype  \n",
      "---  ------      --------------  -----  \n",
      " 0   Unnamed: 0  1309 non-null   int64  \n",
      " 1   Cabin       295 non-null    object \n",
      " 2   Embarked    1307 non-null   object \n",
      " 3   Fare        1308 non-null   float64\n",
      " 4   Pclass      1309 non-null   int64  \n",
      " 5   Ticket      1309 non-null   object \n",
      " 6   Age         1046 non-null   float64\n",
      " 7   Name        1309 non-null   object \n",
      " 8   Parch       1309 non-null   int64  \n",
      " 9   Sex         1309 non-null   object \n",
      " 10  SibSp       1309 non-null   int64  \n",
      " 11  Survived    891 non-null    float64\n",
      "dtypes: float64(3), int64(4), object(5)\n",
      "memory usage: 122.8+ KB\n"
     ]
    }
   ],
   "source": [
    "data.info()"
   ]
  },
  {
   "cell_type": "code",
   "execution_count": 63,
   "metadata": {},
   "outputs": [
    {
     "data": {
      "text/html": [
       "<div>\n",
       "<style scoped>\n",
       "    .dataframe tbody tr th:only-of-type {\n",
       "        vertical-align: middle;\n",
       "    }\n",
       "\n",
       "    .dataframe tbody tr th {\n",
       "        vertical-align: top;\n",
       "    }\n",
       "\n",
       "    .dataframe thead th {\n",
       "        text-align: right;\n",
       "    }\n",
       "</style>\n",
       "<table border=\"1\" class=\"dataframe\">\n",
       "  <thead>\n",
       "    <tr style=\"text-align: right;\">\n",
       "      <th></th>\n",
       "      <th>Cabin</th>\n",
       "      <th>Embarked</th>\n",
       "      <th>Fare</th>\n",
       "      <th>Pclass</th>\n",
       "      <th>Ticket</th>\n",
       "      <th>Age</th>\n",
       "      <th>Name</th>\n",
       "      <th>Parch</th>\n",
       "      <th>Sex</th>\n",
       "      <th>SibSp</th>\n",
       "      <th>Survived</th>\n",
       "    </tr>\n",
       "  </thead>\n",
       "  <tbody>\n",
       "    <tr>\n",
       "      <th>count</th>\n",
       "      <td>295</td>\n",
       "      <td>1307</td>\n",
       "      <td>1308.000000</td>\n",
       "      <td>1309.000000</td>\n",
       "      <td>1309</td>\n",
       "      <td>1046.000000</td>\n",
       "      <td>1309</td>\n",
       "      <td>1309.000000</td>\n",
       "      <td>1309</td>\n",
       "      <td>1309.000000</td>\n",
       "      <td>891.000000</td>\n",
       "    </tr>\n",
       "    <tr>\n",
       "      <th>unique</th>\n",
       "      <td>186</td>\n",
       "      <td>3</td>\n",
       "      <td>NaN</td>\n",
       "      <td>NaN</td>\n",
       "      <td>929</td>\n",
       "      <td>NaN</td>\n",
       "      <td>1307</td>\n",
       "      <td>NaN</td>\n",
       "      <td>2</td>\n",
       "      <td>NaN</td>\n",
       "      <td>NaN</td>\n",
       "    </tr>\n",
       "    <tr>\n",
       "      <th>top</th>\n",
       "      <td>C23 C25 C27</td>\n",
       "      <td>S</td>\n",
       "      <td>NaN</td>\n",
       "      <td>NaN</td>\n",
       "      <td>CA. 2343</td>\n",
       "      <td>NaN</td>\n",
       "      <td>Kelly, Mr. James</td>\n",
       "      <td>NaN</td>\n",
       "      <td>male</td>\n",
       "      <td>NaN</td>\n",
       "      <td>NaN</td>\n",
       "    </tr>\n",
       "    <tr>\n",
       "      <th>freq</th>\n",
       "      <td>6</td>\n",
       "      <td>914</td>\n",
       "      <td>NaN</td>\n",
       "      <td>NaN</td>\n",
       "      <td>11</td>\n",
       "      <td>NaN</td>\n",
       "      <td>2</td>\n",
       "      <td>NaN</td>\n",
       "      <td>843</td>\n",
       "      <td>NaN</td>\n",
       "      <td>NaN</td>\n",
       "    </tr>\n",
       "    <tr>\n",
       "      <th>mean</th>\n",
       "      <td>NaN</td>\n",
       "      <td>NaN</td>\n",
       "      <td>33.295479</td>\n",
       "      <td>2.294882</td>\n",
       "      <td>NaN</td>\n",
       "      <td>29.881138</td>\n",
       "      <td>NaN</td>\n",
       "      <td>0.385027</td>\n",
       "      <td>NaN</td>\n",
       "      <td>0.498854</td>\n",
       "      <td>0.383838</td>\n",
       "    </tr>\n",
       "    <tr>\n",
       "      <th>std</th>\n",
       "      <td>NaN</td>\n",
       "      <td>NaN</td>\n",
       "      <td>51.758668</td>\n",
       "      <td>0.837836</td>\n",
       "      <td>NaN</td>\n",
       "      <td>14.413493</td>\n",
       "      <td>NaN</td>\n",
       "      <td>0.865560</td>\n",
       "      <td>NaN</td>\n",
       "      <td>1.041658</td>\n",
       "      <td>0.486592</td>\n",
       "    </tr>\n",
       "    <tr>\n",
       "      <th>min</th>\n",
       "      <td>NaN</td>\n",
       "      <td>NaN</td>\n",
       "      <td>0.000000</td>\n",
       "      <td>1.000000</td>\n",
       "      <td>NaN</td>\n",
       "      <td>0.170000</td>\n",
       "      <td>NaN</td>\n",
       "      <td>0.000000</td>\n",
       "      <td>NaN</td>\n",
       "      <td>0.000000</td>\n",
       "      <td>0.000000</td>\n",
       "    </tr>\n",
       "    <tr>\n",
       "      <th>25%</th>\n",
       "      <td>NaN</td>\n",
       "      <td>NaN</td>\n",
       "      <td>7.895800</td>\n",
       "      <td>2.000000</td>\n",
       "      <td>NaN</td>\n",
       "      <td>21.000000</td>\n",
       "      <td>NaN</td>\n",
       "      <td>0.000000</td>\n",
       "      <td>NaN</td>\n",
       "      <td>0.000000</td>\n",
       "      <td>0.000000</td>\n",
       "    </tr>\n",
       "    <tr>\n",
       "      <th>50%</th>\n",
       "      <td>NaN</td>\n",
       "      <td>NaN</td>\n",
       "      <td>14.454200</td>\n",
       "      <td>3.000000</td>\n",
       "      <td>NaN</td>\n",
       "      <td>28.000000</td>\n",
       "      <td>NaN</td>\n",
       "      <td>0.000000</td>\n",
       "      <td>NaN</td>\n",
       "      <td>0.000000</td>\n",
       "      <td>0.000000</td>\n",
       "    </tr>\n",
       "    <tr>\n",
       "      <th>75%</th>\n",
       "      <td>NaN</td>\n",
       "      <td>NaN</td>\n",
       "      <td>31.275000</td>\n",
       "      <td>3.000000</td>\n",
       "      <td>NaN</td>\n",
       "      <td>39.000000</td>\n",
       "      <td>NaN</td>\n",
       "      <td>0.000000</td>\n",
       "      <td>NaN</td>\n",
       "      <td>1.000000</td>\n",
       "      <td>1.000000</td>\n",
       "    </tr>\n",
       "    <tr>\n",
       "      <th>max</th>\n",
       "      <td>NaN</td>\n",
       "      <td>NaN</td>\n",
       "      <td>512.329200</td>\n",
       "      <td>3.000000</td>\n",
       "      <td>NaN</td>\n",
       "      <td>80.000000</td>\n",
       "      <td>NaN</td>\n",
       "      <td>9.000000</td>\n",
       "      <td>NaN</td>\n",
       "      <td>8.000000</td>\n",
       "      <td>1.000000</td>\n",
       "    </tr>\n",
       "  </tbody>\n",
       "</table>\n",
       "</div>"
      ],
      "text/plain": [
       "              Cabin Embarked         Fare       Pclass    Ticket          Age  \\\n",
       "count           295     1307  1308.000000  1309.000000      1309  1046.000000   \n",
       "unique          186        3          NaN          NaN       929          NaN   \n",
       "top     C23 C25 C27        S          NaN          NaN  CA. 2343          NaN   \n",
       "freq              6      914          NaN          NaN        11          NaN   \n",
       "mean            NaN      NaN    33.295479     2.294882       NaN    29.881138   \n",
       "std             NaN      NaN    51.758668     0.837836       NaN    14.413493   \n",
       "min             NaN      NaN     0.000000     1.000000       NaN     0.170000   \n",
       "25%             NaN      NaN     7.895800     2.000000       NaN    21.000000   \n",
       "50%             NaN      NaN    14.454200     3.000000       NaN    28.000000   \n",
       "75%             NaN      NaN    31.275000     3.000000       NaN    39.000000   \n",
       "max             NaN      NaN   512.329200     3.000000       NaN    80.000000   \n",
       "\n",
       "                    Name        Parch   Sex        SibSp    Survived  \n",
       "count               1309  1309.000000  1309  1309.000000  891.000000  \n",
       "unique              1307          NaN     2          NaN         NaN  \n",
       "top     Kelly, Mr. James          NaN  male          NaN         NaN  \n",
       "freq                   2          NaN   843          NaN         NaN  \n",
       "mean                 NaN     0.385027   NaN     0.498854    0.383838  \n",
       "std                  NaN     0.865560   NaN     1.041658    0.486592  \n",
       "min                  NaN     0.000000   NaN     0.000000    0.000000  \n",
       "25%                  NaN     0.000000   NaN     0.000000    0.000000  \n",
       "50%                  NaN     0.000000   NaN     0.000000    0.000000  \n",
       "75%                  NaN     0.000000   NaN     1.000000    1.000000  \n",
       "max                  NaN     9.000000   NaN     8.000000    1.000000  "
      ]
     },
     "execution_count": 63,
     "metadata": {},
     "output_type": "execute_result"
    }
   ],
   "source": [
    "data.describe(include='all')"
   ]
  },
  {
   "cell_type": "markdown",
   "metadata": {},
   "source": [
    "We don't need the Unnamed: 0 column. In Exercise 1.03: Advanced Indexing and Selection, we demonstrated how to remove the column using the del command. How else could we remove this column? Remove this column without using del.\n"
   ]
  },
  {
   "cell_type": "code",
   "execution_count": 8,
   "metadata": {},
   "outputs": [],
   "source": [
    "#del data['Unnamed: 0']"
   ]
  },
  {
   "cell_type": "code",
   "execution_count": 18,
   "metadata": {},
   "outputs": [],
   "source": [
    "data.drop(['Unnamed: 0'],axis = 1,inplace=True)"
   ]
  },
  {
   "cell_type": "code",
   "execution_count": 19,
   "metadata": {},
   "outputs": [
    {
     "data": {
      "text/html": [
       "<div>\n",
       "<style scoped>\n",
       "    .dataframe tbody tr th:only-of-type {\n",
       "        vertical-align: middle;\n",
       "    }\n",
       "\n",
       "    .dataframe tbody tr th {\n",
       "        vertical-align: top;\n",
       "    }\n",
       "\n",
       "    .dataframe thead th {\n",
       "        text-align: right;\n",
       "    }\n",
       "</style>\n",
       "<table border=\"1\" class=\"dataframe\">\n",
       "  <thead>\n",
       "    <tr style=\"text-align: right;\">\n",
       "      <th></th>\n",
       "      <th>Cabin</th>\n",
       "      <th>Embarked</th>\n",
       "      <th>Fare</th>\n",
       "      <th>Pclass</th>\n",
       "      <th>Ticket</th>\n",
       "      <th>Age</th>\n",
       "      <th>Name</th>\n",
       "      <th>Parch</th>\n",
       "      <th>Sex</th>\n",
       "      <th>SibSp</th>\n",
       "      <th>Survived</th>\n",
       "    </tr>\n",
       "  </thead>\n",
       "  <tbody>\n",
       "    <tr>\n",
       "      <th>0</th>\n",
       "      <td>NaN</td>\n",
       "      <td>S</td>\n",
       "      <td>7.2500</td>\n",
       "      <td>3</td>\n",
       "      <td>A/5 21171</td>\n",
       "      <td>22.0</td>\n",
       "      <td>Braund, Mr. Owen Harris</td>\n",
       "      <td>0</td>\n",
       "      <td>male</td>\n",
       "      <td>1</td>\n",
       "      <td>0.0</td>\n",
       "    </tr>\n",
       "    <tr>\n",
       "      <th>1</th>\n",
       "      <td>C85</td>\n",
       "      <td>C</td>\n",
       "      <td>71.2833</td>\n",
       "      <td>1</td>\n",
       "      <td>PC 17599</td>\n",
       "      <td>38.0</td>\n",
       "      <td>Cumings, Mrs. John Bradley (Florence Briggs Th...</td>\n",
       "      <td>0</td>\n",
       "      <td>female</td>\n",
       "      <td>1</td>\n",
       "      <td>1.0</td>\n",
       "    </tr>\n",
       "    <tr>\n",
       "      <th>2</th>\n",
       "      <td>NaN</td>\n",
       "      <td>S</td>\n",
       "      <td>7.9250</td>\n",
       "      <td>3</td>\n",
       "      <td>STON/O2. 3101282</td>\n",
       "      <td>26.0</td>\n",
       "      <td>Heikkinen, Miss. Laina</td>\n",
       "      <td>0</td>\n",
       "      <td>female</td>\n",
       "      <td>0</td>\n",
       "      <td>1.0</td>\n",
       "    </tr>\n",
       "    <tr>\n",
       "      <th>3</th>\n",
       "      <td>C123</td>\n",
       "      <td>S</td>\n",
       "      <td>53.1000</td>\n",
       "      <td>1</td>\n",
       "      <td>113803</td>\n",
       "      <td>35.0</td>\n",
       "      <td>Futrelle, Mrs. Jacques Heath (Lily May Peel)</td>\n",
       "      <td>0</td>\n",
       "      <td>female</td>\n",
       "      <td>1</td>\n",
       "      <td>1.0</td>\n",
       "    </tr>\n",
       "    <tr>\n",
       "      <th>4</th>\n",
       "      <td>NaN</td>\n",
       "      <td>S</td>\n",
       "      <td>8.0500</td>\n",
       "      <td>3</td>\n",
       "      <td>373450</td>\n",
       "      <td>35.0</td>\n",
       "      <td>Allen, Mr. William Henry</td>\n",
       "      <td>0</td>\n",
       "      <td>male</td>\n",
       "      <td>0</td>\n",
       "      <td>0.0</td>\n",
       "    </tr>\n",
       "  </tbody>\n",
       "</table>\n",
       "</div>"
      ],
      "text/plain": [
       "  Cabin Embarked     Fare  Pclass            Ticket   Age  \\\n",
       "0   NaN        S   7.2500       3         A/5 21171  22.0   \n",
       "1   C85        C  71.2833       1          PC 17599  38.0   \n",
       "2   NaN        S   7.9250       3  STON/O2. 3101282  26.0   \n",
       "3  C123        S  53.1000       1            113803  35.0   \n",
       "4   NaN        S   8.0500       3            373450  35.0   \n",
       "\n",
       "                                                Name  Parch     Sex  SibSp  \\\n",
       "0                            Braund, Mr. Owen Harris      0    male      1   \n",
       "1  Cumings, Mrs. John Bradley (Florence Briggs Th...      0  female      1   \n",
       "2                             Heikkinen, Miss. Laina      0  female      0   \n",
       "3       Futrelle, Mrs. Jacques Heath (Lily May Peel)      0  female      1   \n",
       "4                           Allen, Mr. William Henry      0    male      0   \n",
       "\n",
       "   Survived  \n",
       "0       0.0  \n",
       "1       1.0  \n",
       "2       1.0  \n",
       "3       1.0  \n",
       "4       0.0  "
      ]
     },
     "execution_count": 19,
     "metadata": {},
     "output_type": "execute_result"
    }
   ],
   "source": [
    "data.head()"
   ]
  },
  {
   "cell_type": "code",
   "execution_count": null,
   "metadata": {},
   "outputs": [],
   "source": []
  },
  {
   "cell_type": "code",
   "execution_count": null,
   "metadata": {},
   "outputs": [],
   "source": []
  },
  {
   "cell_type": "markdown",
   "metadata": {},
   "source": [
    "Compute the mean, standard deviation, minimum, and maximum values for the columns of the DataFrame without using describe. Note that you can find the minimum and maximum values using the df.min() and df.max() functions."
   ]
  },
  {
   "cell_type": "code",
   "execution_count": 20,
   "metadata": {},
   "outputs": [
    {
     "data": {
      "text/plain": [
       "Fare        33.295479\n",
       "Pclass       2.294882\n",
       "Age         29.881138\n",
       "Parch        0.385027\n",
       "SibSp        0.498854\n",
       "Survived     0.383838\n",
       "dtype: float64"
      ]
     },
     "execution_count": 20,
     "metadata": {},
     "output_type": "execute_result"
    }
   ],
   "source": [
    "data.mean()"
   ]
  },
  {
   "cell_type": "code",
   "execution_count": 21,
   "metadata": {},
   "outputs": [
    {
     "data": {
      "text/plain": [
       "Fare        51.758668\n",
       "Pclass       0.837836\n",
       "Age         14.413493\n",
       "Parch        0.865560\n",
       "SibSp        1.041658\n",
       "Survived     0.486592\n",
       "dtype: float64"
      ]
     },
     "execution_count": 21,
     "metadata": {},
     "output_type": "execute_result"
    }
   ],
   "source": [
    "data.std()"
   ]
  },
  {
   "cell_type": "code",
   "execution_count": 22,
   "metadata": {},
   "outputs": [
    {
     "data": {
      "text/plain": [
       "Fare                            512.329\n",
       "Pclass                                3\n",
       "Ticket                        WE/P 5735\n",
       "Age                                  80\n",
       "Name        van Melkebeke, Mr. Philemon\n",
       "Parch                                 9\n",
       "Sex                                male\n",
       "SibSp                                 8\n",
       "Survived                              1\n",
       "dtype: object"
      ]
     },
     "execution_count": 22,
     "metadata": {},
     "output_type": "execute_result"
    }
   ],
   "source": [
    "data.max()"
   ]
  },
  {
   "cell_type": "code",
   "execution_count": 23,
   "metadata": {},
   "outputs": [
    {
     "data": {
      "text/plain": [
       "Fare                          0\n",
       "Pclass                        1\n",
       "Ticket                   110152\n",
       "Age                        0.17\n",
       "Name        Abbing, Mr. Anthony\n",
       "Parch                         0\n",
       "Sex                      female\n",
       "SibSp                         0\n",
       "Survived                      0\n",
       "dtype: object"
      ]
     },
     "execution_count": 23,
     "metadata": {},
     "output_type": "execute_result"
    }
   ],
   "source": [
    "data.min()"
   ]
  },
  {
   "cell_type": "markdown",
   "metadata": {},
   "source": [
    "Use the quantile method to get values for the 33, 66, and 99% quantiles."
   ]
  },
  {
   "cell_type": "code",
   "execution_count": 25,
   "metadata": {},
   "outputs": [
    {
     "data": {
      "text/plain": [
       "Fare         8.559325\n",
       "Pclass       2.000000\n",
       "Age         23.000000\n",
       "Parch        0.000000\n",
       "SibSp        0.000000\n",
       "Survived     0.000000\n",
       "Name: 0.33, dtype: float64"
      ]
     },
     "execution_count": 25,
     "metadata": {},
     "output_type": "execute_result"
    }
   ],
   "source": [
    "data.quantile(.33)"
   ]
  },
  {
   "cell_type": "code",
   "execution_count": 27,
   "metadata": {},
   "outputs": [
    {
     "data": {
      "text/plain": [
       "Fare        26.0\n",
       "Pclass       3.0\n",
       "Age         34.0\n",
       "Parch        0.0\n",
       "SibSp        0.0\n",
       "Survived     1.0\n",
       "Name: 0.66, dtype: float64"
      ]
     },
     "execution_count": 27,
     "metadata": {},
     "output_type": "execute_result"
    }
   ],
   "source": [
    "data.quantile(.66)"
   ]
  },
  {
   "cell_type": "code",
   "execution_count": 28,
   "metadata": {},
   "outputs": [
    {
     "data": {
      "text/plain": [
       "Fare        262.375\n",
       "Pclass        3.000\n",
       "Age          65.000\n",
       "Parch         4.000\n",
       "SibSp         5.000\n",
       "Survived      1.000\n",
       "Name: 0.99, dtype: float64"
      ]
     },
     "execution_count": 28,
     "metadata": {},
     "output_type": "execute_result"
    }
   ],
   "source": [
    "data.quantile(.99)"
   ]
  },
  {
   "cell_type": "markdown",
   "metadata": {},
   "source": [
    "Find how many passengers were from each class using the groupby method."
   ]
  },
  {
   "cell_type": "code",
   "execution_count": 29,
   "metadata": {},
   "outputs": [],
   "source": [
    "pclass_group = data.groupby('Pclass')\n"
   ]
  },
  {
   "cell_type": "code",
   "execution_count": 37,
   "metadata": {},
   "outputs": [
    {
     "name": "stdout",
     "output_type": "stream",
     "text": [
      " group name: 1, number of passanger: 323 \n",
      "\n",
      " group name: 2, number of passanger: 277 \n",
      "\n",
      " group name: 3, number of passanger: 709 \n",
      "\n"
     ]
    }
   ],
   "source": [
    "for grp_name, dataframe in pclass_group:\n",
    "    print(f' group name: {grp_name}, number of passanger: {dataframe.shape[0]} \\n')"
   ]
  },
  {
   "cell_type": "code",
   "execution_count": 64,
   "metadata": {},
   "outputs": [
    {
     "name": "stdout",
     "output_type": "stream",
     "text": [
      " group name: 1, number: 323 \n",
      " group name: 2, number: 277 \n",
      " group name: 3, number: 709 \n"
     ]
    }
   ],
   "source": [
    "for name , index in pclass_group:\n",
    "    print(f' group name: {name}, number: {len(index)} ')"
   ]
  },
  {
   "cell_type": "markdown",
   "metadata": {},
   "source": [
    "Find how many passengers were from each class answer by using selecting/indexing methods to count the members of each class. You can use the unique() method to find out the unique values of each class. Confirm that the answers to Step 6 and Step 7 match.\n"
   ]
  },
  {
   "cell_type": "code",
   "execution_count": 48,
   "metadata": {
    "scrolled": true
   },
   "outputs": [
    {
     "data": {
      "text/plain": [
       "array([3, 1, 2])"
      ]
     },
     "execution_count": 48,
     "metadata": {},
     "output_type": "execute_result"
    }
   ],
   "source": [
    "data.Pclass.unique()"
   ]
  },
  {
   "cell_type": "code",
   "execution_count": 50,
   "metadata": {},
   "outputs": [
    {
     "data": {
      "text/plain": [
       "323"
      ]
     },
     "execution_count": 50,
     "metadata": {},
     "output_type": "execute_result"
    }
   ],
   "source": [
    "pclass_1 = data[data.Pclass == 1]\n",
    "len(pclass_1)"
   ]
  },
  {
   "cell_type": "code",
   "execution_count": 52,
   "metadata": {},
   "outputs": [
    {
     "data": {
      "text/plain": [
       "277"
      ]
     },
     "execution_count": 52,
     "metadata": {},
     "output_type": "execute_result"
    }
   ],
   "source": [
    "pclass_2 = data[data.Pclass == 2]\n",
    "len(pclass_2)"
   ]
  },
  {
   "cell_type": "code",
   "execution_count": 53,
   "metadata": {},
   "outputs": [
    {
     "data": {
      "text/plain": [
       "709"
      ]
     },
     "execution_count": 53,
     "metadata": {},
     "output_type": "execute_result"
    }
   ],
   "source": [
    "pclass_3 = data[data.Pclass == 3]\n",
    "len(pclass_3)"
   ]
  },
  {
   "cell_type": "code",
   "execution_count": 65,
   "metadata": {},
   "outputs": [
    {
     "name": "stdout",
     "output_type": "stream",
     "text": [
      " class name: 3 number: 709\n",
      " class name: 1 number: 323\n",
      " class name: 2 number: 277\n"
     ]
    }
   ],
   "source": [
    "for cls_name in data.Pclass.unique():\n",
    "    number = len(data[data.Pclass == cls_name])\n",
    "    print(f\" class name: {cls_name} number: {number}\")"
   ]
  },
  {
   "cell_type": "markdown",
   "metadata": {},
   "source": [
    "Determine who the eldest passenger in third class was.\n"
   ]
  },
  {
   "cell_type": "code",
   "execution_count": 56,
   "metadata": {},
   "outputs": [
    {
     "data": {
      "text/html": [
       "<div>\n",
       "<style scoped>\n",
       "    .dataframe tbody tr th:only-of-type {\n",
       "        vertical-align: middle;\n",
       "    }\n",
       "\n",
       "    .dataframe tbody tr th {\n",
       "        vertical-align: top;\n",
       "    }\n",
       "\n",
       "    .dataframe thead th {\n",
       "        text-align: right;\n",
       "    }\n",
       "</style>\n",
       "<table border=\"1\" class=\"dataframe\">\n",
       "  <thead>\n",
       "    <tr style=\"text-align: right;\">\n",
       "      <th></th>\n",
       "      <th>Cabin</th>\n",
       "      <th>Embarked</th>\n",
       "      <th>Fare</th>\n",
       "      <th>Pclass</th>\n",
       "      <th>Ticket</th>\n",
       "      <th>Age</th>\n",
       "      <th>Name</th>\n",
       "      <th>Parch</th>\n",
       "      <th>Sex</th>\n",
       "      <th>SibSp</th>\n",
       "      <th>Survived</th>\n",
       "    </tr>\n",
       "  </thead>\n",
       "  <tbody>\n",
       "    <tr>\n",
       "      <th>851</th>\n",
       "      <td>NaN</td>\n",
       "      <td>S</td>\n",
       "      <td>7.775</td>\n",
       "      <td>3</td>\n",
       "      <td>347060</td>\n",
       "      <td>74.0</td>\n",
       "      <td>Svensson, Mr. Johan</td>\n",
       "      <td>0</td>\n",
       "      <td>male</td>\n",
       "      <td>0</td>\n",
       "      <td>0.0</td>\n",
       "    </tr>\n",
       "  </tbody>\n",
       "</table>\n",
       "</div>"
      ],
      "text/plain": [
       "    Cabin Embarked   Fare  Pclass  Ticket   Age                 Name  Parch  \\\n",
       "851   NaN        S  7.775       3  347060  74.0  Svensson, Mr. Johan      0   \n",
       "\n",
       "      Sex  SibSp  Survived  \n",
       "851  male      0       0.0  "
      ]
     },
     "execution_count": 56,
     "metadata": {},
     "output_type": "execute_result"
    }
   ],
   "source": [
    "eldest = pclass_3[ pclass_3.Age == pclass_3.Age.max()]\n",
    "eldest"
   ]
  },
  {
   "cell_type": "markdown",
   "metadata": {},
   "source": [
    "For a number of machine learning problems, it is very common to scale the numerical values between 0 and 1. Use the agg method with Lambda functions to scale the Fare and Age columns between 0 and 1.\n"
   ]
  },
  {
   "cell_type": "code",
   "execution_count": 67,
   "metadata": {},
   "outputs": [],
   "source": [
    "fare = data.Fare.max()\n",
    "age = data.Age.max()"
   ]
  },
  {
   "cell_type": "code",
   "execution_count": 70,
   "metadata": {},
   "outputs": [
    {
     "data": {
      "text/html": [
       "<div>\n",
       "<style scoped>\n",
       "    .dataframe tbody tr th:only-of-type {\n",
       "        vertical-align: middle;\n",
       "    }\n",
       "\n",
       "    .dataframe tbody tr th {\n",
       "        vertical-align: top;\n",
       "    }\n",
       "\n",
       "    .dataframe thead th {\n",
       "        text-align: right;\n",
       "    }\n",
       "</style>\n",
       "<table border=\"1\" class=\"dataframe\">\n",
       "  <thead>\n",
       "    <tr style=\"text-align: right;\">\n",
       "      <th></th>\n",
       "      <th>Fare</th>\n",
       "      <th>Age</th>\n",
       "    </tr>\n",
       "  </thead>\n",
       "  <tbody>\n",
       "    <tr>\n",
       "      <th>0</th>\n",
       "      <td>0.014151</td>\n",
       "      <td>0.27500</td>\n",
       "    </tr>\n",
       "    <tr>\n",
       "      <th>1</th>\n",
       "      <td>0.139136</td>\n",
       "      <td>0.47500</td>\n",
       "    </tr>\n",
       "    <tr>\n",
       "      <th>2</th>\n",
       "      <td>0.015469</td>\n",
       "      <td>0.32500</td>\n",
       "    </tr>\n",
       "    <tr>\n",
       "      <th>3</th>\n",
       "      <td>0.103644</td>\n",
       "      <td>0.43750</td>\n",
       "    </tr>\n",
       "    <tr>\n",
       "      <th>4</th>\n",
       "      <td>0.015713</td>\n",
       "      <td>0.43750</td>\n",
       "    </tr>\n",
       "    <tr>\n",
       "      <th>...</th>\n",
       "      <td>...</td>\n",
       "      <td>...</td>\n",
       "    </tr>\n",
       "    <tr>\n",
       "      <th>1304</th>\n",
       "      <td>0.015713</td>\n",
       "      <td>NaN</td>\n",
       "    </tr>\n",
       "    <tr>\n",
       "      <th>1305</th>\n",
       "      <td>0.212559</td>\n",
       "      <td>0.48750</td>\n",
       "    </tr>\n",
       "    <tr>\n",
       "      <th>1306</th>\n",
       "      <td>0.014151</td>\n",
       "      <td>0.48125</td>\n",
       "    </tr>\n",
       "    <tr>\n",
       "      <th>1307</th>\n",
       "      <td>0.015713</td>\n",
       "      <td>NaN</td>\n",
       "    </tr>\n",
       "    <tr>\n",
       "      <th>1308</th>\n",
       "      <td>0.043640</td>\n",
       "      <td>NaN</td>\n",
       "    </tr>\n",
       "  </tbody>\n",
       "</table>\n",
       "<p>1309 rows × 2 columns</p>\n",
       "</div>"
      ],
      "text/plain": [
       "          Fare      Age\n",
       "0     0.014151  0.27500\n",
       "1     0.139136  0.47500\n",
       "2     0.015469  0.32500\n",
       "3     0.103644  0.43750\n",
       "4     0.015713  0.43750\n",
       "...        ...      ...\n",
       "1304  0.015713      NaN\n",
       "1305  0.212559  0.48750\n",
       "1306  0.014151  0.48125\n",
       "1307  0.015713      NaN\n",
       "1308  0.043640      NaN\n",
       "\n",
       "[1309 rows x 2 columns]"
      ]
     },
     "execution_count": 70,
     "metadata": {},
     "output_type": "execute_result"
    }
   ],
   "source": [
    "data.agg({\n",
    "    'Fare': lambda x: x/fare,\n",
    "    'Age': lambda x: x/age\n",
    "                 })"
   ]
  },
  {
   "cell_type": "markdown",
   "metadata": {},
   "source": [
    "There is one individual in the dataset without a listed Fare value, which can be established as follows:\n"
   ]
  },
  {
   "cell_type": "code",
   "execution_count": 61,
   "metadata": {},
   "outputs": [
    {
     "data": {
      "text/html": [
       "<div>\n",
       "<style scoped>\n",
       "    .dataframe tbody tr th:only-of-type {\n",
       "        vertical-align: middle;\n",
       "    }\n",
       "\n",
       "    .dataframe tbody tr th {\n",
       "        vertical-align: top;\n",
       "    }\n",
       "\n",
       "    .dataframe thead th {\n",
       "        text-align: right;\n",
       "    }\n",
       "</style>\n",
       "<table border=\"1\" class=\"dataframe\">\n",
       "  <thead>\n",
       "    <tr style=\"text-align: right;\">\n",
       "      <th></th>\n",
       "      <th>Cabin</th>\n",
       "      <th>Embarked</th>\n",
       "      <th>Fare</th>\n",
       "      <th>Pclass</th>\n",
       "      <th>Ticket</th>\n",
       "      <th>Age</th>\n",
       "      <th>Name</th>\n",
       "      <th>Parch</th>\n",
       "      <th>Sex</th>\n",
       "      <th>SibSp</th>\n",
       "      <th>Survived</th>\n",
       "    </tr>\n",
       "  </thead>\n",
       "  <tbody>\n",
       "    <tr>\n",
       "      <th>1043</th>\n",
       "      <td>NaN</td>\n",
       "      <td>S</td>\n",
       "      <td>NaN</td>\n",
       "      <td>3</td>\n",
       "      <td>3701</td>\n",
       "      <td>60.5</td>\n",
       "      <td>Storey, Mr. Thomas</td>\n",
       "      <td>0</td>\n",
       "      <td>male</td>\n",
       "      <td>0</td>\n",
       "      <td>NaN</td>\n",
       "    </tr>\n",
       "  </tbody>\n",
       "</table>\n",
       "</div>"
      ],
      "text/plain": [
       "     Cabin Embarked  Fare  Pclass Ticket   Age                Name  Parch  \\\n",
       "1043   NaN        S   NaN       3   3701  60.5  Storey, Mr. Thomas      0   \n",
       "\n",
       "       Sex  SibSp  Survived  \n",
       "1043  male      0       NaN  "
      ]
     },
     "execution_count": 61,
     "metadata": {},
     "output_type": "execute_result"
    }
   ],
   "source": [
    "data[np.isnan(data.Fare)]"
   ]
  },
  {
   "cell_type": "code",
   "execution_count": 72,
   "metadata": {},
   "outputs": [
    {
     "data": {
      "text/html": [
       "<div>\n",
       "<style scoped>\n",
       "    .dataframe tbody tr th:only-of-type {\n",
       "        vertical-align: middle;\n",
       "    }\n",
       "\n",
       "    .dataframe tbody tr th {\n",
       "        vertical-align: top;\n",
       "    }\n",
       "\n",
       "    .dataframe thead th {\n",
       "        text-align: right;\n",
       "    }\n",
       "</style>\n",
       "<table border=\"1\" class=\"dataframe\">\n",
       "  <thead>\n",
       "    <tr style=\"text-align: right;\">\n",
       "      <th></th>\n",
       "      <th>Cabin</th>\n",
       "      <th>Embarked</th>\n",
       "      <th>Fare</th>\n",
       "      <th>Pclass</th>\n",
       "      <th>Ticket</th>\n",
       "      <th>Age</th>\n",
       "      <th>Name</th>\n",
       "      <th>Parch</th>\n",
       "      <th>Sex</th>\n",
       "      <th>SibSp</th>\n",
       "      <th>Survived</th>\n",
       "    </tr>\n",
       "  </thead>\n",
       "  <tbody>\n",
       "    <tr>\n",
       "      <th>1043</th>\n",
       "      <td>NaN</td>\n",
       "      <td>S</td>\n",
       "      <td>NaN</td>\n",
       "      <td>3</td>\n",
       "      <td>3701</td>\n",
       "      <td>60.5</td>\n",
       "      <td>Storey, Mr. Thomas</td>\n",
       "      <td>0</td>\n",
       "      <td>male</td>\n",
       "      <td>0</td>\n",
       "      <td>NaN</td>\n",
       "    </tr>\n",
       "  </tbody>\n",
       "</table>\n",
       "</div>"
      ],
      "text/plain": [
       "     Cabin Embarked  Fare  Pclass Ticket   Age                Name  Parch  \\\n",
       "1043   NaN        S   NaN       3   3701  60.5  Storey, Mr. Thomas      0   \n",
       "\n",
       "       Sex  SibSp  Survived  \n",
       "1043  male      0       NaN  "
      ]
     },
     "execution_count": 72,
     "metadata": {},
     "output_type": "execute_result"
    }
   ],
   "source": [
    "df_fare_nan = data.loc[(data.Fare.isna())]\n",
    "df_fare_nan"
   ]
  },
  {
   "cell_type": "markdown",
   "metadata": {},
   "source": [
    "Replace the NaN value of this row in the main DataFrame with the mean Fare value for those corresponding to the same class and Embarked location using the groupby method. The output will be as follows:\n"
   ]
  },
  {
   "cell_type": "code",
   "execution_count": 79,
   "metadata": {},
   "outputs": [
    {
     "data": {
      "text/plain": [
       "{('S',\n",
       "  3): Int64Index([   0,    2,    4,    7,    8,   10,   12,   13,   14,   18,\n",
       "             ...\n",
       "             1277, 1280, 1283, 1285, 1289, 1300, 1303, 1304, 1306, 1307],\n",
       "            dtype='int64', length=495),\n",
       " ('C',\n",
       "  1): Int64Index([   1,   30,   31,   34,   52,   54,   64,   96,   97,  118,\n",
       "             ...\n",
       "             1241, 1255, 1259, 1262, 1266, 1288, 1293, 1295, 1298, 1305],\n",
       "            dtype='int64', length=141),\n",
       " ('S',\n",
       "  1): Int64Index([   3,    6,   11,   23,   27,   35,   55,   62,   83,   88,\n",
       "             ...\n",
       "             1246, 1247, 1263, 1265, 1269, 1281, 1282, 1286, 1291, 1294],\n",
       "            dtype='int64', length=177),\n",
       " ('Q',\n",
       "  3): Int64Index([   5,   16,   22,   28,   32,   44,   46,   47,   82,  109,\n",
       "             ...\n",
       "             1204, 1206, 1249, 1271, 1272, 1279, 1287, 1290, 1299, 1301],\n",
       "            dtype='int64', length=113),\n",
       " ('C',\n",
       "  2): Int64Index([   9,   43,  122,  135,  181,  292,  308,  361,  389,  473,  547,\n",
       "              608,  685,  817,  827,  866,  874,  906,  942,  945, 1001, 1111,\n",
       "             1155, 1187, 1192, 1252, 1260, 1296],\n",
       "            dtype='int64'),\n",
       " ('S',\n",
       "  2): Int64Index([  15,   17,   20,   21,   33,   41,   53,   56,   58,   66,\n",
       "             ...\n",
       "             1253, 1261, 1264, 1268, 1275, 1276, 1278, 1284, 1292, 1297],\n",
       "            dtype='int64', length=242),\n",
       " ('C',\n",
       "  3): Int64Index([  19,   26,   36,   39,   42,   48,   57,   60,   65,   73,\n",
       "             ...\n",
       "             1188, 1202, 1212, 1223, 1224, 1228, 1230, 1238, 1257, 1308],\n",
       "            dtype='int64', length=101),\n",
       " (nan, 1): Int64Index([61, 829], dtype='int64'),\n",
       " ('Q', 1): Int64Index([245, 412, 1302], dtype='int64'),\n",
       " ('Q', 2): Int64Index([303, 322, 626, 893, 907, 975, 1084], dtype='int64')}"
      ]
     },
     "execution_count": 79,
     "metadata": {},
     "output_type": "execute_result"
    }
   ],
   "source": [
    "embarked_class_group = data.groupby(['Embarked', 'Pclass'])\n",
    "embarked_class_group.groups"
   ]
  },
  {
   "cell_type": "code",
   "execution_count": 77,
   "metadata": {},
   "outputs": [
    {
     "data": {
      "text/plain": [
       "Int64Index([   0,    2,    4,    7,    8,   10,   12,   13,   14,   18,\n",
       "            ...\n",
       "            1277, 1280, 1283, 1285, 1289, 1300, 1303, 1304, 1306, 1307],\n",
       "           dtype='int64', length=495)"
      ]
     },
     "execution_count": 77,
     "metadata": {},
     "output_type": "execute_result"
    }
   ],
   "source": [
    "indices = embarked_class_group.groups[df_fare_nan.Embarked.values[0], df_fare_nan.Pclass.values[0]]\n",
    "indices"
   ]
  },
  {
   "cell_type": "code",
   "execution_count": 84,
   "metadata": {},
   "outputs": [
    {
     "data": {
      "text/plain": [
       "14.435422064777338"
      ]
     },
     "execution_count": 84,
     "metadata": {},
     "output_type": "execute_result"
    }
   ],
   "source": [
    "mean_fare = data.iloc[indices].Fare.mean()\n",
    "mean_fare"
   ]
  },
  {
   "cell_type": "code",
   "execution_count": 85,
   "metadata": {},
   "outputs": [],
   "source": [
    "data.loc[(data.index==1043), 'Fare']= mean_fare"
   ]
  },
  {
   "cell_type": "code",
   "execution_count": 87,
   "metadata": {},
   "outputs": [
    {
     "data": {
      "text/plain": [
       "Cabin                      NaN\n",
       "Embarked                     S\n",
       "Fare                   14.4354\n",
       "Pclass                       3\n",
       "Ticket                    3701\n",
       "Age                       60.5\n",
       "Name        Storey, Mr. Thomas\n",
       "Parch                        0\n",
       "Sex                       male\n",
       "SibSp                        0\n",
       "Survived                   NaN\n",
       "Name: 1043, dtype: object"
      ]
     },
     "execution_count": 87,
     "metadata": {},
     "output_type": "execute_result"
    }
   ],
   "source": [
    "data.iloc[1043]"
   ]
  },
  {
   "cell_type": "code",
   "execution_count": null,
   "metadata": {},
   "outputs": [],
   "source": []
  }
 ],
 "metadata": {
  "kernelspec": {
   "display_name": "Python 3",
   "language": "python",
   "name": "python3"
  },
  "language_info": {
   "codemirror_mode": {
    "name": "ipython",
    "version": 3
   },
   "file_extension": ".py",
   "mimetype": "text/x-python",
   "name": "python",
   "nbconvert_exporter": "python",
   "pygments_lexer": "ipython3",
   "version": "3.7.6"
  }
 },
 "nbformat": 4,
 "nbformat_minor": 4
}
